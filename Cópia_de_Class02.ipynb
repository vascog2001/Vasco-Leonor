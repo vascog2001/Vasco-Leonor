{
  "nbformat": 4,
  "nbformat_minor": 0,
  "metadata": {
    "colab": {
      "provenance": [],
      "include_colab_link": true
    },
    "kernelspec": {
      "name": "python3",
      "display_name": "Python 3"
    },
    "language_info": {
      "name": "python"
    }
  },
  "cells": [
    {
      "cell_type": "markdown",
      "metadata": {
        "id": "view-in-github",
        "colab_type": "text"
      },
      "source": [
        "<a href=\"https://colab.research.google.com/github/vascog2001/Vasco-Leonor/blob/main/C%C3%B3pia_de_Class02.ipynb\" target=\"_parent\"><img src=\"https://colab.research.google.com/assets/colab-badge.svg\" alt=\"Open In Colab\"/></a>"
      ]
    },
    {
      "cell_type": "markdown",
      "source": [
        "#Simple Python\n"
      ],
      "metadata": {
        "id": "Mf3ue6e-uUmx"
      }
    },
    {
      "cell_type": "markdown",
      "source": [
        "In the class A, students' heights are:\n",
        "\n",
        "161.5\n",
        "165.9\n",
        "168.7\n",
        "163.1\n",
        "170.8\n",
        "167.2\n",
        "\n",
        "In the class B, students' heights are:\n",
        "\n",
        "172.5\n",
        "162.9\n",
        "161.7\n",
        "160.1\n",
        "161.8\n",
        "169.2\n",
        "\n",
        "The class A and the class B are joined together to form the class AB. Write a code to calculate the mean height by using Python 'list' and 'for' loop"
      ],
      "metadata": {
        "id": "I-g2O1erp4rp"
      }
    },
    {
      "cell_type": "code",
      "execution_count": null,
      "metadata": {
        "id": "C2GNtXrfp105",
        "outputId": "718b8787-71e5-4380-9a48-82a4fc91ae86",
        "colab": {
          "base_uri": "https://localhost:8080/"
        }
      },
      "outputs": [
        {
          "output_type": "stream",
          "name": "stdout",
          "text": [
            "The mean height of class AB is: 165.45000000000002\n"
          ]
        }
      ],
      "source": [
        "# Create lists for class A and class B heights\n",
        "classA_heights = [161.5, 165.9, 168.7, 163.1, 170.8, 167.2]\n",
        "classB_heights = [172.5, 162.9, 161.7, 160.1, 161.8, 169.2]\n",
        "\n",
        "# Combine class A and class B heights into one list\n",
        "classAB_heights = classA_heights + classB_heights\n",
        "\n",
        "# Calculate the mean height of class AB using for loop\n",
        "total_height = 0\n",
        "for height in classAB_heights:\n",
        "    total_height += height\n",
        "\n",
        "mean_height = total_height / len(classAB_heights)\n",
        "\n",
        "# Print the mean height of class AB\n",
        "print(\"The mean height of class AB is:\", mean_height)\n",
        "\n",
        "\n",
        "\n",
        "\n",
        "\n"
      ]
    },
    {
      "cell_type": "markdown",
      "source": [
        "Write a python code to sort the heights of the class AB."
      ],
      "metadata": {
        "id": "q-EKIni7q7fr"
      }
    },
    {
      "cell_type": "code",
      "source": [
        "# Define the heights of students in class A and class B\n",
        "class_a_heights = [161.5, 165.9, 168.7, 163.1, 170.8, 167.2]\n",
        "class_b_heights = [172.5, 162.9, 161.7, 160.1, 161.8, 169.2]\n",
        "\n",
        "# Combine the heights of both classes to form class AB\n",
        "class_ab_heights = class_a_heights + class_b_heights\n",
        "\n",
        "# Sort the heights in class AB in ascending order\n",
        "sorted_heights = sorted(class_ab_heights)\n",
        "\n",
        "print(\"The sorted heights of class AB are:\", sorted_heights)"
      ],
      "metadata": {
        "id": "r10GJvR6q-s9",
        "outputId": "088b847b-ecb4-42ca-9681-781e829247f1",
        "colab": {
          "base_uri": "https://localhost:8080/"
        }
      },
      "execution_count": null,
      "outputs": [
        {
          "output_type": "stream",
          "name": "stdout",
          "text": [
            "The sorted heights of class AB are: [160.1, 161.5, 161.7, 161.8, 162.9, 163.1, 165.9, 167.2, 168.7, 169.2, 170.8, 172.5]\n"
          ]
        }
      ]
    },
    {
      "cell_type": "markdown",
      "source": [
        " The class C is formed with students with the height less than 165. Make a list 'C' containing the heights of the class C."
      ],
      "metadata": {
        "id": "oLg5_C33rRrm"
      }
    },
    {
      "cell_type": "code",
      "source": [],
      "metadata": {
        "id": "ObnyjBy6rS2U"
      },
      "execution_count": null,
      "outputs": []
    },
    {
      "cell_type": "markdown",
      "source": [
        "The class D is formed with students with the height larger than 160 and less than 170. Make a list containing the heights of the class D."
      ],
      "metadata": {
        "id": "E5v1T2XErWbO"
      }
    },
    {
      "cell_type": "code",
      "source": [],
      "metadata": {
        "id": "qxEvfiNerXhf"
      },
      "execution_count": null,
      "outputs": []
    },
    {
      "cell_type": "markdown",
      "source": [
        "Use a lambda function and map() to answer the following questions.\n",
        "1). Add 1 to each element of the list 'a' and create another list.\n",
        "\n",
        "a = [1, 2, 3, 4, 5, 6, 7, 8, 9, 10]"
      ],
      "metadata": {
        "id": "HNuB0Ym1rjo2"
      }
    },
    {
      "cell_type": "code",
      "source": [],
      "metadata": {
        "id": "qcS7mwC5r5-v"
      },
      "execution_count": null,
      "outputs": []
    },
    {
      "cell_type": "markdown",
      "source": [
        "In the following list of names, extract only those stargin with 'J'. Show the result as a list.\n",
        "\n",
        "a = ['Sara', 'Jack', 'Rebecca', 'Jennifer', 'Paul', 'Andrew', 'John']"
      ],
      "metadata": {
        "id": "xA5Eeeper5Fw"
      }
    },
    {
      "cell_type": "code",
      "source": [],
      "metadata": {
        "id": "mDgRtPoRspfi"
      },
      "execution_count": null,
      "outputs": []
    },
    {
      "cell_type": "markdown",
      "source": [
        "Code the class named 'Calculator' that outputs the result as shown.\n",
        "\n",
        "calc1 = Calculator(5,3)\n",
        "\n",
        "\n",
        "print(calc1.sum())\n",
        "\n",
        "print(calc1.subtract())\n",
        "\n",
        "print(calc1.product())\n",
        "\n",
        "print(calc1.divide())\n",
        "\n",
        "\n",
        "8\n",
        "\n",
        "2\n",
        "\n",
        "15\n",
        "\n",
        "1.6666666666666667"
      ],
      "metadata": {
        "id": "pFl7wm6ysqNl"
      }
    },
    {
      "cell_type": "code",
      "source": [],
      "metadata": {
        "id": "JSN2QM_EsrYn"
      },
      "execution_count": null,
      "outputs": []
    },
    {
      "cell_type": "markdown",
      "source": [
        "Write function named 'palindrome' to test whether the entered word or sentence is a palindrome.\n",
        "Ignore capitalization, spaces, punctuation marks, symbols, etc. This code should be written with simple python without importing any libraries\n",
        "\n",
        "Palindrome examples:\n",
        "\n",
        "mom\n",
        "\n",
        "wow\n",
        "\n",
        "noon\n",
        "\n",
        "level\n",
        "\n",
        "radar\n",
        "\n",
        "kayak\n",
        "\n",
        "racecar\n",
        "\n",
        "God's dog\n",
        "\n",
        "Madam, I'm Adam"
      ],
      "metadata": {
        "id": "TX3hSZaXs8Np"
      }
    },
    {
      "cell_type": "code",
      "source": [],
      "metadata": {
        "id": "TETrD-CVuGVQ"
      },
      "execution_count": null,
      "outputs": []
    },
    {
      "cell_type": "markdown",
      "source": [
        "#Example from pandas, numpy, and matplotlib libraries"
      ],
      "metadata": {
        "id": "0TQkA4kJuamx"
      }
    },
    {
      "cell_type": "markdown",
      "source": [
        "Write a python code that generates 1000 random number between -5 and 5 with normal distribution and then plot them:"
      ],
      "metadata": {
        "id": "w90Bj51D0m2j"
      }
    },
    {
      "cell_type": "code",
      "source": [
        "import numpy as np\n",
        "import matplotlib.pyplot as plt\n",
        "\n",
        "# Generate 1000 random numbers between -5 and 5 with normal distribution\n",
        "mean = 0\n",
        "std_dev = 1\n",
        "num_samples = 1000\n",
        "random_numbers = np.random.normal(mean, std_dev, num_samples)\n",
        "\n",
        "# Plot the random numbers\n",
        "plt.hist(random_numbers, bins=50, density=True)\n",
        "plt.xlabel('Random Numbers')\n",
        "plt.ylabel('Probability Density')\n",
        "plt.title('Random Numbers with Normal Distribution')\n",
        "plt.show()"
      ],
      "metadata": {
        "id": "OjZpU3n_0t_L",
        "outputId": "7936e260-f6de-4780-f7cb-447c4e74128f",
        "colab": {
          "base_uri": "https://localhost:8080/",
          "height": 295
        }
      },
      "execution_count": null,
      "outputs": [
        {
          "output_type": "display_data",
          "data": {
            "text/plain": [
              "<Figure size 432x288 with 1 Axes>"
            ],
            "image/png": "[encoded data removed]"
          },
          "metadata": {
            "needs_background": "light"
          }
        }
      ]
    },
    {
      "cell_type": "markdown",
      "source": [
        "Read in the data:\n",
        "\n",
        "!wget --no-clobber https://raw.githubusercontent.com/tn-220/EmergingClass/main/data_studentlist.csv\n",
        "\n",
        "df = pd.read_csv('data_studentlist.csv', header='infer')\n",
        "\n",
        "df.head(5)\n",
        "\n",
        "**Answer the following questions using Pandas library.**\n",
        "\n",
        "1) Average height of the male students:"
      ],
      "metadata": {
        "id": "EeIXG79AvayG"
      }
    },
    {
      "cell_type": "code",
      "source": [
        "import pandas as pd\n",
        "\n",
        "!wget --no-clobber https://raw.githubusercontent.com/tn-220/EmergingClass/main/data_studentlist.csv\n",
        "# Read the dataset\n",
        "df = pd.read_csv('data_studentlist.csv', header='infer')\n",
        "\n",
        "# Filter out the male students\n",
        "male_df = df[df['gender'] == 'M']\n",
        "\n",
        "# Compute the mean height of the male students\n",
        "mean_height_male = male_df['height'].mean()\n",
        "\n",
        "print(\"Average height of male students: {:.2f} cm\".format(mean_height_male))\n",
        "\n",
        "\n"
      ],
      "metadata": {
        "id": "rtcA0X8luwEZ",
        "outputId": "94d0206e-f56b-41ff-b513-ea74d2acc426",
        "colab": {
          "base_uri": "https://localhost:8080/"
        }
      },
      "execution_count": null,
      "outputs": [
        {
          "output_type": "stream",
          "name": "stdout",
          "text": [
            "--2023-03-16 10:39:38--  https://raw.githubusercontent.com/tn-220/EmergingClass/main/data_studentlist.csv\n",
            "Resolving raw.githubusercontent.com (raw.githubusercontent.com)... 185.199.108.133, 185.199.109.133, 185.199.110.133, ...\n",
            "Connecting to raw.githubusercontent.com (raw.githubusercontent.com)|185.199.108.133|:443... connected.\n",
            "HTTP request sent, awaiting response... 200 OK\n",
            "Length: 674 [text/plain]\n",
            "Saving to: ‘data_studentlist.csv’\n",
            "\n",
            "\rdata_studentlist.cs   0%[                    ]       0  --.-KB/s               \rdata_studentlist.cs 100%[===================>]     674  --.-KB/s    in 0s      \n",
            "\n",
            "2023-03-16 10:39:38 (26.4 MB/s) - ‘data_studentlist.csv’ saved [674/674]\n",
            "\n",
            "Average height of male students: 172.41 cm\n"
          ]
        }
      ]
    },
    {
      "cell_type": "markdown",
      "source": [
        "2) Average height of the female students:"
      ],
      "metadata": {
        "id": "AQ96I2hJvwUs"
      }
    },
    {
      "cell_type": "code",
      "source": [
        "import pandas as pd\n",
        "\n",
        "!wget --no-clobber https://raw.githubusercontent.com/tn-220/EmergingClass/main/data_studentlist.csv\n",
        "# Read the dataset\n",
        "df = pd.read_csv('data_studentlist.csv', header='infer')\n",
        "\n",
        "# Filter out the female students\n",
        "female_df = df[df['gender'] == 'F']\n",
        "\n",
        "# Compute the mean height of the female students\n",
        "mean_height_female = female_df['height'].mean()\n",
        "\n",
        "print(\"Average height of female students: {:.2f} cm\".format(mean_height_female))\n"
      ],
      "metadata": {
        "id": "icDx4YT7v1MK",
        "outputId": "a3db025b-c55b-409d-b9c0-d3691336cb6b",
        "colab": {
          "base_uri": "https://localhost:8080/"
        }
      },
      "execution_count": null,
      "outputs": [
        {
          "output_type": "stream",
          "name": "stdout",
          "text": [
            "File ‘data_studentlist.csv’ already there; not retrieving.\n",
            "\n",
            "Average height of female students: 166.64 cm\n"
          ]
        }
      ]
    },
    {
      "cell_type": "markdown",
      "source": [
        "3) Average weight of the male students:"
      ],
      "metadata": {
        "id": "Cf1mQNBVv2av"
      }
    },
    {
      "cell_type": "code",
      "source": [
        "import pandas as pd\n",
        "\n",
        "!wget --no-clobber https://raw.githubusercontent.com/tn-220/EmergingClass/main/data_studentlist.csv\n",
        "# Read the dataset\n",
        "df = pd.read_csv('data_studentlist.csv', header='infer')\n",
        "\n",
        "# Filter out the male students\n",
        "male_df = df[df['gender'] == 'M']\n",
        "\n",
        "# Compute the mean height of the male students\n",
        "mean_weight_male = male_df['weight'].mean()\n",
        "\n",
        "print(\"Average weight of male students: {:.2f} kg\".format(mean_weight_male))\n"
      ],
      "metadata": {
        "id": "Pb7a5Ma1wHVQ",
        "outputId": "a24ba882-71e4-428b-b634-29b4f0c91dd0",
        "colab": {
          "base_uri": "https://localhost:8080/"
        }
      },
      "execution_count": null,
      "outputs": [
        {
          "output_type": "stream",
          "name": "stdout",
          "text": [
            "File ‘data_studentlist.csv’ already there; not retrieving.\n",
            "\n",
            "Average weight of male students: 68.50 kg\n"
          ]
        }
      ]
    },
    {
      "cell_type": "markdown",
      "source": [
        "4) The tallest height among the male students:"
      ],
      "metadata": {
        "id": "dvStklTSwIE3"
      }
    },
    {
      "cell_type": "code",
      "source": [],
      "metadata": {
        "id": "cncdR3RWCfns"
      },
      "execution_count": null,
      "outputs": []
    },
    {
      "cell_type": "markdown",
      "source": [
        "5) The average grade of students with absence ('Y'):\n"
      ],
      "metadata": {
        "id": "Rkb6aToMwRKI"
      }
    },
    {
      "cell_type": "code",
      "source": [],
      "metadata": {
        "id": "TMf6oggVwa-I"
      },
      "execution_count": null,
      "outputs": []
    },
    {
      "cell_type": "markdown",
      "source": [
        "6) Average age of the students with absence ('Y') whose grade is equal or larger than 3:"
      ],
      "metadata": {
        "id": "iwRY3m4Nwb1q"
      }
    },
    {
      "cell_type": "code",
      "source": [],
      "metadata": {
        "id": "FG-dnrzywlqr"
      },
      "execution_count": null,
      "outputs": []
    },
    {
      "cell_type": "markdown",
      "source": [
        "Use pandas and numpy for following:\n",
        "\n",
        "Read in the data.\n",
        "\n",
        "!wget --no-clobber https://raw.githubusercontent.com/tn-220/EmergingClass/main/data_census.csv\n",
        "\n",
        "df = pd.read_csv('data_census.csv', header='infer')\n",
        "\n",
        "df.shape\n",
        "\n",
        "df.head(10)\n",
        "\n",
        "**Answer the following questions using Pandas library.**\n",
        "\n",
        "1) Total population of ProvinceCode equal to 115 and 116:"
      ],
      "metadata": {
        "id": "OzuUo-26xRP5"
      }
    },
    {
      "cell_type": "code",
      "source": [],
      "metadata": {
        "id": "U1_KCsWWxeHp"
      },
      "execution_count": null,
      "outputs": []
    },
    {
      "cell_type": "markdown",
      "source": [
        "2) Average population of the cities where there are more males (GenderRatio >1:"
      ],
      "metadata": {
        "id": "az8ph_o9xb4I"
      }
    },
    {
      "cell_type": "code",
      "source": [],
      "metadata": {
        "id": "riP5TZL-xU2x"
      },
      "execution_count": null,
      "outputs": []
    },
    {
      "cell_type": "markdown",
      "source": [
        "\n",
        "3) Places with more males (GenderRatio >1) and less than 2 persons per household:\n",
        "\n",
        " "
      ],
      "metadata": {
        "id": "MD0AXxnGxm9Q"
      }
    },
    {
      "cell_type": "code",
      "source": [],
      "metadata": {
        "id": "MnD5ntWAxpMy"
      },
      "execution_count": null,
      "outputs": []
    },
    {
      "cell_type": "markdown",
      "source": [
        "\n",
        "4) Sort the DataFrame in ascending order of the 'Households'. Show the top 10."
      ],
      "metadata": {
        "id": "vPdl2MLJxqPd"
      }
    },
    {
      "cell_type": "code",
      "source": [],
      "metadata": {
        "id": "DzBeup02ysb3"
      },
      "execution_count": null,
      "outputs": []
    },
    {
      "cell_type": "markdown",
      "source": [
        "###Import pandas, numpy , and mathplotlib\n",
        "\n",
        "Read in the data.\n",
        "!wget --no-clobber https://raw.githubusercontent.com/tn-220/EmergingClass/main/data_coffeeshop.csv\n",
        "\n",
        "**Answer the following questions.**\n",
        "\n",
        "1) Make a frequency table of 'yearOfStart' and visualize by year.\n",
        "\n",
        "\n",
        "* Sort by the year.\n",
        "\n",
        "* Draw a line plot from 1997 to 2014. <= Hint: plt.xlim()"
      ],
      "metadata": {
        "id": "vU_tm0gQytCG"
      }
    },
    {
      "cell_type": "code",
      "source": [],
      "metadata": {
        "id": "ahS0CfvNytYt"
      },
      "execution_count": null,
      "outputs": []
    },
    {
      "cell_type": "markdown",
      "source": [
        "2) Now, split the data by the current state of business ('In' or 'Out' of business). Then, visualize the yearly trend of the 'yearOfStart' frequencies.\n",
        "\n",
        "* Sort by the year.\n",
        "* Draw two overlapping line plots from 1997 to 2014.\n",
        "* Use the 'figure' object."
      ],
      "metadata": {
        "id": "m_iArmf7zd7v"
      }
    },
    {
      "cell_type": "code",
      "source": [],
      "metadata": {
        "id": "LShbzNAtzsR6"
      },
      "execution_count": null,
      "outputs": []
    },
    {
      "cell_type": "markdown",
      "source": [
        "3) From the results of 1) and 2), how can you describe the trend in general?\n",
        "\n",
        "* Around the year 2008, began a steep increase in the number of new coffee shops.\n",
        "* As of the year 2014, more coffee shops opened in the past 5 years are still in business rather than going out of business."
      ],
      "metadata": {
        "id": "lH_AgrBJzwZw"
      }
    },
    {
      "cell_type": "code",
      "source": [],
      "metadata": {
        "id": "MyMy9VlQz2jv"
      },
      "execution_count": null,
      "outputs": []
    }
  ]
}